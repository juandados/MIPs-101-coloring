{
 "cells": [
  {
   "cell_type": "markdown",
   "metadata": {},
   "source": [
    "# Graph Coloring"
   ]
  },
  {
   "cell_type": "markdown",
   "metadata": {},
   "source": [
    "## Setting Up the Notebook"
   ]
  },
  {
   "cell_type": "markdown",
   "metadata": {},
   "source": [
    "## 1. Defining Preprocessing"
   ]
  },
  {
   "cell_type": "code",
   "execution_count": 1,
   "metadata": {
    "id": "1vfe4lXmitne"
   },
   "outputs": [],
   "source": [
    "from collections import defaultdict, namedtuple\n",
    "Graph = namedtuple('graph', ['mapping', 'edges', 'nodes'])\n",
    "Solution = namedtuple('solution', ['edges', 'colored_nodes'])\n",
    "\n",
    "class InputDataProcessor:\n",
    "    @staticmethod\n",
    "    def process(filename):\n",
    "        with open(filename, 'r') as file:\n",
    "            data = file.read().strip()\n",
    "        graph = Graph(mapping=defaultdict(lambda: []), edges=set(), nodes=set())\n",
    "        defaultdict(lambda: [])\n",
    "        lines = data.split(\"\\n\")\n",
    "        lines = lines[1:]\n",
    "        for line in lines:\n",
    "            n1, n2 = line.split(\" \")\n",
    "            try:\n",
    "                n1, n2 = int(n1), int(n2)\n",
    "            except:\n",
    "                pass\n",
    "            graph.mapping[n1] += [n2]\n",
    "            graph.mapping[n2] += [n1]\n",
    "            graph.nodes.update({n1, n2})\n",
    "            graph.edges.add(tuple(sorted((n1, n2))))\n",
    "        return graph"
   ]
  },
  {
   "cell_type": "markdown",
   "metadata": {},
   "source": [
    "## 2. Defining the Coloring Model"
   ]
  },
  {
   "cell_type": "code",
   "execution_count": 2,
   "metadata": {
    "id": "5fZ68XR-dhSh"
   },
   "outputs": [],
   "source": [
    "import json\n",
    "import os\n",
    "from itertools import product\n",
    "import numpy as np\n",
    "import pulp"
   ]
  },
  {
   "cell_type": "code",
   "execution_count": 3,
   "metadata": {},
   "outputs": [],
   "source": [
    "class ColorPicker:\n",
    "    def __init__(self, graph, **kwargs):\n",
    "        self.graph = graph\n",
    "        self.max_degree = self._get_max_degree()\n",
    "        print(f\">>>> Max degree: {self.max_degree}\")\n",
    "        self.colors = list(range(self.max_degree + 1))\n",
    "        self._build_model(**kwargs)\n",
    "\n",
    "\n",
    "    def _get_max_degree(self):\n",
    "        return max(len(neighbors) for neighbors in self.graph.mapping.values())\n",
    "\n",
    "    def _build_model(self, **kwargs):\n",
    "        self.problem = pulp.LpProblem(name=\"Colouring\", sense=pulp.LpMinimize)\n",
    "        # Step 1: Define Variables\n",
    "        self.vars = self._create_variables()\n",
    "        # Step 2: Build Constraints\n",
    "        constraint_builder = ConstraintBuilder(self.problem, self.graph, self.colors, self.vars)\n",
    "        self.problem = constraint_builder.build_constriaints(**kwargs)\n",
    "        # Step 3: Set Objective\n",
    "        self._set_objective()\n",
    "\n",
    "    def _create_variables(self):\n",
    "        print(\">>>> Creating Variables\")\n",
    "        self.x = pulp.LpVariable.dicts(\n",
    "            name=\"x\",\n",
    "            indices=product(self.graph.nodes, self.colors),\n",
    "            lowBound=0,\n",
    "            upBound=1,\n",
    "            cat=pulp.LpBinary\n",
    "        )\n",
    "        self.z = pulp.LpVariable(name=\"z\", lowBound=0, cat=pulp.LpInteger)\n",
    "        vars = {\"x\": self.x, \"z\": self.z}\n",
    "        return vars\n",
    "\n",
    "\n",
    "    def _set_objective(self):\n",
    "        print(\">>>> Setting Objective\")\n",
    "        self.objective_parts = {\"obj\": self.z}\n",
    "        self.problem.setObjective(pulp.lpSum(self.objective_parts.values()))\n",
    "\n",
    "\n",
    "    def solve(self, solver_name=\"CBC\", time_limit=None):\n",
    "        print(f\">>>> Solving system\")\n",
    "        os.environ[\"GRB_LICENSE_FILE\"] = \"gurobi.lic\"\n",
    "        threads = os.cpu_count()\n",
    "        solvers = {\n",
    "            \"CBC\": pulp.PULP_CBC_CMD(msg=False, threads=threads, timeLimit=time_limit, gapRel=1e-5), #logPath='./cbc.log'\n",
    "            \"GUROBI\": pulp.GUROBI(msg=True, threads=threads, timeLimit=time_limit, gapRel=1e-5, MIPFocus=1),\n",
    "        }\n",
    "        solver = solvers[solver_name]\n",
    "        self.problem.solve(solver)\n",
    "        self.status = pulp.LpStatus[self.problem.status]\n",
    "        print(f\">>>> Status {self.status}\")\n",
    "        solution = self._format_solution()\n",
    "        return solution\n",
    "\n",
    "    def _format_solution(self):\n",
    "        colored_nodes = dict()\n",
    "        if self.status == \"Optimal\":\n",
    "            for node in self.graph.nodes:\n",
    "                colored_nodes[node] = max(\n",
    "                    ((color, self.x[node, color].value()) for color in self.colors), key=lambda x: x[1]\n",
    "                )[0]\n",
    "        else:\n",
    "            colored_nodes = {node: None for node in self.graph.nodes}\n",
    "        solution = Solution(edges=self.graph.edges, colored_nodes=colored_nodes)\n",
    "        return solution\n"
   ]
  },
  {
   "cell_type": "markdown",
   "metadata": {},
   "source": [
    "### 2.1. Constraint Builder"
   ]
  },
  {
   "cell_type": "code",
   "execution_count": 4,
   "metadata": {},
   "outputs": [],
   "source": [
    "class ConstraintBuilder:\n",
    "    def __init__(self, problem, graph, colors, vars):\n",
    "        self.problem = problem\n",
    "        self.graph = graph\n",
    "        self.colors = colors\n",
    "        self.vars = vars\n",
    "\n",
    "    \n",
    "    def build_constriaints(self, **kwargs):\n",
    "        print(f\">>>> Building Constraints\")\n",
    "        self._add_every_node_has_color_constraint()\n",
    "        \n",
    "        if kwargs.get(\"tight_max\", True):\n",
    "            print(\">>>>> using tight objective definition\")\n",
    "            self._add_obj_is_maximum_tight_constraint()\n",
    "        else:\n",
    "            print(\">>>>> using loose objective definition\")\n",
    "            self._add_obj_is_maximum_loose_constraint()\n",
    "        \n",
    "        \n",
    "        if kwargs.get(\"neighbors_constr_infeasible\", False):\n",
    "            self._add_no_neighbors_with_same_color_infeasible_constraint()\n",
    "        else:\n",
    "            self._add_no_neighbors_with_same_color_constraint()\n",
    "        return self.problem\n",
    "\n",
    "\n",
    "    def _add_every_node_has_color_constraint(self):\n",
    "        x = self.vars['x']\n",
    "        for node in self.graph.nodes:\n",
    "            self.problem.addConstraint(\n",
    "                pulp.lpSum(x[node, color] for color in self.colors) == 1,\n",
    "                name=f\"node_has_color_{node}\"\n",
    "            )\n",
    "\n",
    "    def _add_obj_is_maximum_loose_constraint(self):\n",
    "        x, z = self.vars['x'], self.vars['z']\n",
    "        for node in self.graph.nodes:\n",
    "            self.problem.addConstraint(\n",
    "                z >= pulp.lpSum(color * x[node, color] for color in self.colors),\n",
    "                name=f\"obj_is_maximum_loose_constraint_{node}\"\n",
    "            )\n",
    "\n",
    "    def _add_obj_is_maximum_tight_constraint(self):\n",
    "        x, z = self.vars['x'], self.vars['z']\n",
    "        for node, color in product(self.graph.nodes, self.colors):\n",
    "            self.problem.addConstraint(\n",
    "                z >= color * x[node, color],\n",
    "                name=f\"obj_is_maximum_tight_constraint_{node}_{color}\"\n",
    "            )\n",
    "\n",
    "    def _add_no_neighbors_with_same_color_constraint(self):\n",
    "        x = self.vars['x']\n",
    "        for color in self.colors:\n",
    "            for (node1, node2) in self.graph.edges:\n",
    "                self.problem.addConstraint(\n",
    "                    x[node1, color] + x[node2, color] <= 1,\n",
    "                    name=f\"no_neighbors_with_same_color_constraint_{color}_{node1}_{node2}\"\n",
    "                )\n",
    "    \n",
    "    def _add_no_neighbors_with_same_color_infeasible_constraint(self):\n",
    "        x = self.vars['x']\n",
    "        for color in self.colors:\n",
    "            for node, neighbors in self.graph.mapping.items():             \n",
    "                self.problem.addConstraint(\n",
    "                    x[node, color] + pulp.lpSum(x[neighbor, color] for neighbor in neighbors) <= 1,\n",
    "                    name=f\"no_neighbors_with_same_color_infeasible_constraint{color}_{node}\"\n",
    "                )"
   ]
  },
  {
   "cell_type": "markdown",
   "metadata": {},
   "source": [
    "## 3. Defining Preprocessing"
   ]
  },
  {
   "cell_type": "code",
   "execution_count": 5,
   "metadata": {
    "id": "eEFi7GmnaZMJ"
   },
   "outputs": [],
   "source": [
    "from pyvis.network import Network\n",
    "import matplotlib.pyplot as plt\n",
    "from matplotlib.colors import rgb2hex\n",
    "\n",
    "from numpy import linspace\n",
    "import IPython\n",
    "\n",
    "class OutputDataProcessor:\n",
    "    @staticmethod\n",
    "    def process(solution):\n",
    "        g = Network(notebook=True)\n",
    "        if all(color is not None for color in solution.colored_nodes.values()):\n",
    "            cmap = plt.get_cmap(\"gist_rainbow\")\n",
    "            color_count = len(set(solution.colored_nodes.values()))\n",
    "            rgb_colors = {c: cmap(x) for c, x in enumerate(linspace(0, 1-1/color_count, color_count))}\n",
    "            g.add_nodes(nodes=list(solution.colored_nodes.keys()), color=[rgb2hex(rgb_colors[color_label]) for color_label in solution.colored_nodes.values()])\n",
    "        else:\n",
    "            g.add_nodes(nodes=list(solution.colored_nodes.keys()))\n",
    "        g.add_edges(solution.edges)    \n",
    "        g.set_options(\"\"\"{\"edges\": {\"color\": {\"inherit\": false}}, \"physics\":{\"maxVelocity\": 15}}\"\"\")\n",
    "        filename = \"vis.html\"\n",
    "        g.show(name=filename)\n",
    "        return g, filename"
   ]
  },
  {
   "cell_type": "markdown",
   "metadata": {},
   "source": [
    "# 4. Running Some test cases"
   ]
  },
  {
   "cell_type": "markdown",
   "metadata": {
    "id": "IPkhBFKHF1m3"
   },
   "source": [
    "### Example 1: An Small Instance"
   ]
  },
  {
   "cell_type": "code",
   "execution_count": 6,
   "metadata": {
    "colab": {
     "base_uri": "https://localhost:8080/"
    },
    "id": "C1UauyqpFj-l",
    "outputId": "c2d02518-ca80-452c-d4cb-a5cc05078a8d"
   },
   "outputs": [
    {
     "name": "stdout",
     "output_type": "stream",
     "text": [
      ">>>> Max degree: 3\n",
      ">>>> Creating Variables\n",
      ">>>> Building Constraints\n",
      ">>>>> using tight objective definition\n",
      ">>>> Setting Objective\n",
      ">>>> Solving system\n",
      "Using license file gurobi.lic\n",
      "Set parameter CSManager to value https://gurobi.dev.galileodigital.net\n",
      "Set parameter CSAPIAccessID\n",
      "Set parameter CSAPISecret\n",
      "Compute Server job ID: 6bcaa94e-8a54-4e9f-9600-35fc7558e83e\n",
      "Capacity available on 'vm-gurobi-dev-001:61000' - connecting...\n",
      "Established HTTPS encrypted connection\n",
      "Changed value of parameter threads to 12\n",
      "   Prev: 0  Min: 0  Max: 1024  Default: 0\n",
      "Changed value of parameter MIPFocus to 1\n",
      "   Prev: 0  Min: 0  Max: 3  Default: 0\n",
      ">>>> Status Optimal\n",
      "Solution Time: 0.027\n"
     ]
    },
    {
     "data": {
      "text/html": [
       "\n",
       "        <iframe\n",
       "            width=\"500px\"\n",
       "            height=\"500px\"\n",
       "            src=\"vis.html\"\n",
       "            frameborder=\"0\"\n",
       "            allowfullscreen\n",
       "            \n",
       "        ></iframe>\n",
       "        "
      ],
      "text/plain": [
       "<IPython.lib.display.IFrame at 0x7fcfe8b7d610>"
      ]
     },
     "execution_count": 6,
     "metadata": {},
     "output_type": "execute_result"
    }
   ],
   "source": [
    "graph = InputDataProcessor.process('data/gc_4_1')\n",
    "color_picker = ColorPicker(graph)\n",
    "solution = color_picker.solve(solver_name=\"CBC\")\n",
    "g, filename = OutputDataProcessor.process(solution)\n",
    "print(f\"Solution Time: {color_picker.problem.solutionTime:.3f}\")\n",
    "g.show(filename)\n",
    "#IPython.display.HTML(filename=filename)"
   ]
  },
  {
   "cell_type": "markdown",
   "metadata": {
    "id": "IPkhBFKHF1m3"
   },
   "source": [
    "### Example 2: Tight V.S. Losse"
   ]
  },
  {
   "cell_type": "code",
   "execution_count": 7,
   "metadata": {
    "colab": {
     "base_uri": "https://localhost:8080/"
    },
    "id": "C1UauyqpFj-l",
    "outputId": "c2d02518-ca80-452c-d4cb-a5cc05078a8d"
   },
   "outputs": [
    {
     "name": "stdout",
     "output_type": "stream",
     "text": [
      ">>>> Max degree: 5\n",
      ">>>> Creating Variables\n",
      ">>>> Building Constraints\n",
      ">>>>> using loose objective definition\n",
      ">>>> Setting Objective\n",
      ">>>> Solving system\n",
      "Parameter threads unchanged\n",
      "   Value: 12  Min: 0  Max: 1024  Default: 0\n",
      "Parameter MIPFocus unchanged\n",
      "   Value: 1  Min: 0  Max: 3  Default: 0\n",
      ">>>> Status Optimal\n",
      "Solution Time: 0.121\n"
     ]
    },
    {
     "data": {
      "text/html": [
       "\n",
       "        <iframe\n",
       "            width=\"500px\"\n",
       "            height=\"500px\"\n",
       "            src=\"vis.html\"\n",
       "            frameborder=\"0\"\n",
       "            allowfullscreen\n",
       "            \n",
       "        ></iframe>\n",
       "        "
      ],
      "text/plain": [
       "<IPython.lib.display.IFrame at 0x7fd038aa59d0>"
      ]
     },
     "execution_count": 7,
     "metadata": {},
     "output_type": "execute_result"
    }
   ],
   "source": [
    "graph = InputDataProcessor.process('data/gc_20_1')\n",
    "color_picker = ColorPicker(graph, tight_max=False)\n",
    "solution = color_picker.solve(solver_name=\"CBC\")\n",
    "g, filename = OutputDataProcessor.process(solution)\n",
    "print(f\"Solution Time: {color_picker.problem.solutionTime:.3f}\")\n",
    "g.show(filename)"
   ]
  },
  {
   "cell_type": "code",
   "execution_count": 8,
   "metadata": {},
   "outputs": [
    {
     "name": "stdout",
     "output_type": "stream",
     "text": [
      ">>>> Max degree: 5\n",
      ">>>> Creating Variables\n",
      ">>>> Building Constraints\n",
      ">>>>> using tight objective definition\n",
      ">>>> Setting Objective\n",
      ">>>> Solving system\n",
      "Parameter threads unchanged\n",
      "   Value: 12  Min: 0  Max: 1024  Default: 0\n",
      "Parameter MIPFocus unchanged\n",
      "   Value: 1  Min: 0  Max: 3  Default: 0\n",
      ">>>> Status Optimal\n",
      "Solution Time: 0.200\n"
     ]
    },
    {
     "data": {
      "text/html": [
       "\n",
       "        <iframe\n",
       "            width=\"500px\"\n",
       "            height=\"500px\"\n",
       "            src=\"vis.html\"\n",
       "            frameborder=\"0\"\n",
       "            allowfullscreen\n",
       "            \n",
       "        ></iframe>\n",
       "        "
      ],
      "text/plain": [
       "<IPython.lib.display.IFrame at 0x7fd018786e50>"
      ]
     },
     "execution_count": 8,
     "metadata": {},
     "output_type": "execute_result"
    }
   ],
   "source": [
    "graph = InputDataProcessor.process('data/gc_20_1')\n",
    "color_picker = ColorPicker(graph, tight_max=True)\n",
    "solution = color_picker.solve(solver_name=\"CBC\")\n",
    "g, filename = OutputDataProcessor.process(solution)\n",
    "print(f\"Solution Time: {color_picker.problem.solutionTime:.3f}\")\n",
    "g.show(filename)"
   ]
  },
  {
   "cell_type": "markdown",
   "metadata": {
    "id": "IPkhBFKHF1m3"
   },
   "source": [
    "### Example 3: Using Other Solvers"
   ]
  },
  {
   "cell_type": "markdown",
   "metadata": {},
   "source": [
    "#### Using CBC"
   ]
  },
  {
   "cell_type": "code",
   "execution_count": 9,
   "metadata": {
    "colab": {
     "base_uri": "https://localhost:8080/"
    },
    "id": "C1UauyqpFj-l",
    "outputId": "c2d02518-ca80-452c-d4cb-a5cc05078a8d"
   },
   "outputs": [
    {
     "name": "stdout",
     "output_type": "stream",
     "text": [
      ">>>> Max degree: 31\n",
      ">>>> Creating Variables\n",
      ">>>> Building Constraints\n",
      ">>>>> using loose objective definition\n",
      ">>>> Setting Objective\n",
      ">>>> Solving system\n",
      "Parameter threads unchanged\n",
      "   Value: 12  Min: 0  Max: 1024  Default: 0\n",
      "Parameter MIPFocus unchanged\n",
      "   Value: 1  Min: 0  Max: 3  Default: 0\n",
      ">>>> Status Optimal\n",
      "Solution Time: 21.564\n"
     ]
    },
    {
     "data": {
      "text/html": [
       "\n",
       "        <iframe\n",
       "            width=\"500px\"\n",
       "            height=\"500px\"\n",
       "            src=\"vis.html\"\n",
       "            frameborder=\"0\"\n",
       "            allowfullscreen\n",
       "            \n",
       "        ></iframe>\n",
       "        "
      ],
      "text/plain": [
       "<IPython.lib.display.IFrame at 0x7fd00837e280>"
      ]
     },
     "execution_count": 9,
     "metadata": {},
     "output_type": "execute_result"
    }
   ],
   "source": [
    "graph = InputDataProcessor.process('data/gc_50_5')\n",
    "color_picker = ColorPicker(graph, tight_max=False)\n",
    "solution = color_picker.solve(solver_name=\"CBC\", time_limit=25)\n",
    "g, filename = OutputDataProcessor.process(solution)\n",
    "print(f\"Solution Time: {color_picker.problem.solutionTime:.3f}\")\n",
    "g.show(filename)"
   ]
  },
  {
   "cell_type": "code",
   "execution_count": 10,
   "metadata": {},
   "outputs": [
    {
     "name": "stdout",
     "output_type": "stream",
     "text": [
      "Color count: 15\n"
     ]
    }
   ],
   "source": [
    "color_count = len(set(solution.colored_nodes.values()))\n",
    "print(f\"Color count: {color_count}\")"
   ]
  },
  {
   "cell_type": "markdown",
   "metadata": {},
   "source": [
    "#### Using Gurobi"
   ]
  },
  {
   "cell_type": "code",
   "execution_count": 11,
   "metadata": {},
   "outputs": [
    {
     "name": "stdout",
     "output_type": "stream",
     "text": [
      ">>>> Max degree: 31\n",
      ">>>> Creating Variables\n",
      ">>>> Building Constraints\n",
      ">>>>> using loose objective definition\n",
      ">>>> Setting Objective\n",
      ">>>> Solving system\n",
      "Parameter threads unchanged\n",
      "   Value: 12  Min: 0  Max: 1024  Default: 0\n",
      "Parameter MIPFocus unchanged\n",
      "   Value: 1  Min: 0  Max: 3  Default: 0\n",
      "Changed value of parameter TimeLimit to 25.0\n",
      "   Prev: inf  Min: 0.0  Max: inf  Default: inf\n",
      "Changed value of parameter MIPGap to 1e-05\n",
      "   Prev: 0.0001  Min: 0.0  Max: inf  Default: 0.0001\n",
      "Gurobi Optimizer version 9.1.0 build v9.1.0rc0 (mac64)\n",
      "Gurobi Optimizer version 9.1.0 build v9.1.0rc0 (linux64)\n",
      "Thread count: 8 physical cores, 16 logical processors, using up to 12 threads\n",
      "Optimize a model with 19044 rows, 1601 columns and 41088 nonzeros\n",
      "Model fingerprint: 0x428873e9\n",
      "Variable types: 0 continuous, 1601 integer (0 binary)\n",
      "Coefficient statistics:\n",
      "  Matrix range     [1e+00, 3e+01]\n",
      "  Objective range  [1e+00, 1e+00]\n",
      "  Bounds range     [1e+00, 1e+00]\n",
      "  RHS range        [1e+00, 1e+00]\n",
      "Found heuristic solution: objective 31.0000000\n",
      "Presolve removed 14976 rows and 0 columns\n",
      "Presolve time: 0.19s\n",
      "Presolved: 4068 rows, 1601 columns, 23936 nonzeros\n",
      "Variable types: 0 continuous, 1601 integer (1600 binary)\n",
      "\n",
      "Root relaxation: objective 3.000000e+00, 1464 iterations, 0.15 seconds\n",
      "\n",
      "    Nodes    |    Current Node    |     Objective Bounds      |     Work\n",
      " Expl Unexpl |  Obj  Depth IntInf | Incumbent    BestBd   Gap | It/Node Time\n",
      "\n",
      "     0     0    3.00000    0  212   31.00000    3.00000  90.3%     -    0s\n",
      "H    0     0                      15.0000000    3.00000  80.0%     -    0s\n",
      "H    0     0                      14.0000000    3.00000  78.6%     -    0s\n",
      "H    0     0                      13.0000000    3.00000  76.9%     -    0s\n",
      "H    0     0                      11.0000000    3.00000  72.7%     -    0s\n",
      "     0     0    3.00000    0  245   11.00000    3.00000  72.7%     -    1s\n",
      "     0     0    3.14286    0  242   11.00000    3.14286  71.4%     -    2s\n",
      "H    0     0                      10.0000000    3.14286  68.6%     -    2s\n",
      "     0     0    4.29651    0  272   10.00000    4.29651  57.0%     -    2s\n",
      "H    0     0                       9.0000000    4.29651  52.3%     -    2s\n",
      "     0     0    4.29672    0  263    9.00000    4.29672  52.3%     -    2s\n",
      "     0     0    4.29672    0  256    9.00000    4.29672  52.3%     -    2s\n",
      "     0     0    5.14286    0  290    9.00000    5.14286  42.9%     -    2s\n",
      "     0     0    5.15556    0  287    9.00000    5.15556  42.7%     -    3s\n",
      "     0     0    5.15556    0  276    9.00000    5.15556  42.7%     -    3s\n",
      "     0     0    5.22222    0  280    9.00000    5.22222  42.0%     -    3s\n",
      "     0     0    5.22222    0  282    9.00000    5.22222  42.0%     -    3s\n",
      "     0     0    5.24000    0  285    9.00000    5.24000  41.8%     -    3s\n",
      "     0     0    5.24000    0  284    9.00000    5.24000  41.8%     -    3s\n",
      "     0     0    5.28571    0  215    9.00000    5.28571  41.3%     -    3s\n",
      "     0     0    5.28571    0  250    9.00000    5.28571  41.3%     -    4s\n",
      "     0     0    6.00000    0  237    9.00000    6.00000  33.3%     -    4s\n",
      "     0     0    6.00000    0  226    9.00000    6.00000  33.3%     -    4s\n",
      "     0     0    6.00000    0  232    9.00000    6.00000  33.3%     -    5s\n",
      "     0     0    6.00000    0  230    9.00000    6.00000  33.3%     -    5s\n",
      "     0     0    6.00000    0  143    9.00000    6.00000  33.3%     -    5s\n",
      "     0     0    6.00000    0  237    9.00000    6.00000  33.3%     -    5s\n",
      "     0     0    6.00000    0  188    9.00000    6.00000  33.3%     -    5s\n",
      "     0     0    6.00000    0  247    9.00000    6.00000  33.3%     -    5s\n",
      "     0     0    6.00000    0  245    9.00000    6.00000  33.3%     -    6s\n",
      "     0     2    6.00000    0  229    9.00000    6.00000  33.3%     -    9s\n",
      "    11    16    7.00000    4  172    9.00000    7.00000  22.2%   718   10s\n",
      "*  269   391              28       8.0000000    7.00000  12.5%   201   11s\n",
      "  1593   256 infeasible   15         8.00000    7.00000  12.5%   205   15s\n",
      "  2210   234    7.00000    8  186    8.00000    7.00000  12.5%   213   21s\n",
      "\n",
      "Cutting planes:\n",
      "  Gomory: 1\n",
      "  Implied bound: 2\n",
      "  Clique: 321\n",
      "  MIR: 52\n",
      "  Inf proof: 1\n",
      "  Zero half: 8\n",
      "  Relax-and-lift: 11\n",
      "\n",
      "Explored 3668 nodes (765149 simplex iterations) in 24.73 seconds\n",
      "Thread count was 12 (of 16 available processors)\n",
      "\n",
      "Solution count 8: 8 9 10 ... 31\n",
      "\n",
      "Optimal solution found (tolerance 1.00e-05)\n",
      "Best objective 8.000000000000e+00, best bound 8.000000000000e+00, gap 0.0000%\n",
      "Gurobi status= 2\n",
      ">>>> Status Optimal\n",
      "Solution Time: 28.719\n"
     ]
    },
    {
     "data": {
      "text/html": [
       "\n",
       "        <iframe\n",
       "            width=\"500px\"\n",
       "            height=\"500px\"\n",
       "            src=\"vis.html\"\n",
       "            frameborder=\"0\"\n",
       "            allowfullscreen\n",
       "            \n",
       "        ></iframe>\n",
       "        "
      ],
      "text/plain": [
       "<IPython.lib.display.IFrame at 0x7fd008bbbaf0>"
      ]
     },
     "execution_count": 11,
     "metadata": {},
     "output_type": "execute_result"
    }
   ],
   "source": [
    "graph = InputDataProcessor.process('data/gc_50_5')\n",
    "color_picker = ColorPicker(graph, tight_max=False)\n",
    "solution = color_picker.solve(solver_name=\"GUROBI\", time_limit=25)\n",
    "g, filename = OutputDataProcessor.process(solution)\n",
    "print(f\"Solution Time: {color_picker.problem.solutionTime:.3f}\")\n",
    "g.show(filename)"
   ]
  },
  {
   "cell_type": "code",
   "execution_count": 12,
   "metadata": {},
   "outputs": [
    {
     "name": "stdout",
     "output_type": "stream",
     "text": [
      "Color count: 9\n"
     ]
    }
   ],
   "source": [
    "color_count = len(set(solution.colored_nodes.values()))\n",
    "print(f\"Color count: {color_count}\")"
   ]
  },
  {
   "cell_type": "markdown",
   "metadata": {
    "id": "IPkhBFKHF1m3"
   },
   "source": [
    "# Formulation Issues"
   ]
  },
  {
   "cell_type": "code",
   "execution_count": 13,
   "metadata": {
    "colab": {
     "base_uri": "https://localhost:8080/"
    },
    "id": "C1UauyqpFj-l",
    "outputId": "c2d02518-ca80-452c-d4cb-a5cc05078a8d"
   },
   "outputs": [
    {
     "name": "stdout",
     "output_type": "stream",
     "text": [
      ">>>> Max degree: 2\n",
      ">>>> Creating Variables\n",
      ">>>> Building Constraints\n",
      ">>>>> using tight objective definition\n",
      ">>>> Setting Objective\n",
      ">>>> Solving system\n",
      "Parameter threads unchanged\n",
      "   Value: 12  Min: 0  Max: 1024  Default: 0\n",
      "Parameter MIPFocus unchanged\n",
      "   Value: 1  Min: 0  Max: 3  Default: 0\n",
      "Changed value of parameter MIPGap to 1e-05\n",
      "   Prev: 0.0001  Min: 0.0  Max: inf  Default: 0.0001\n",
      "Gurobi Optimizer version 9.1.0 build v9.1.0rc0 (mac64)\n",
      "Gurobi Optimizer version 9.1.0 build v9.1.0rc0 (linux64)\n",
      "Thread count: 8 physical cores, 16 logical processors, using up to 12 threads\n",
      "Optimize a model with 28 rows, 13 columns and 68 nonzeros\n",
      "Model fingerprint: 0xa41f4ddd\n",
      "Variable types: 0 continuous, 13 integer (0 binary)\n",
      "Coefficient statistics:\n",
      "  Matrix range     [1e+00, 2e+00]\n",
      "  Objective range  [1e+00, 1e+00]\n",
      "  Bounds range     [1e+00, 1e+00]\n",
      "  RHS range        [1e+00, 1e+00]\n",
      "Presolve removed 20 rows and 0 columns\n",
      "Presolve time: 0.00s\n",
      "Presolved: 8 rows, 13 columns, 30 nonzeros\n",
      "Variable types: 0 continuous, 13 integer (12 binary)\n",
      "\n",
      "Root relaxation: infeasible, 10 iterations, 0.00 seconds\n",
      "\n",
      "    Nodes    |    Current Node    |     Objective Bounds      |     Work\n",
      " Expl Unexpl |  Obj  Depth IntInf | Incumbent    BestBd   Gap | It/Node Time\n",
      "\n",
      "     0     0 infeasible    0               - infeasible      -     -    0s\n",
      "\n",
      "Explored 0 nodes (10 simplex iterations) in 0.00 seconds\n",
      "Thread count was 12 (of 16 available processors)\n",
      "\n",
      "Solution count 0\n",
      "\n",
      "Model is infeasible\n",
      "Best objective -, best bound -, gap -\n",
      "Gurobi status= 3\n",
      ">>>> Status Infeasible\n",
      "Solution Time: 1.582\n"
     ]
    },
    {
     "data": {
      "text/html": [
       "\n",
       "        <iframe\n",
       "            width=\"500px\"\n",
       "            height=\"500px\"\n",
       "            src=\"vis.html\"\n",
       "            frameborder=\"0\"\n",
       "            allowfullscreen\n",
       "            \n",
       "        ></iframe>\n",
       "        "
      ],
      "text/plain": [
       "<IPython.lib.display.IFrame at 0x7fd00837e5e0>"
      ]
     },
     "execution_count": 13,
     "metadata": {},
     "output_type": "execute_result"
    }
   ],
   "source": [
    "graph = InputDataProcessor.process('data/gc_4_4_inf')\n",
    "color_picker = ColorPicker(graph, neighbors_constr_infeasible=True)\n",
    "solution = color_picker.solve(solver_name=\"GUROBI\")\n",
    "g, filename = OutputDataProcessor.process(solution)\n",
    "print(f\"Solution Time: {color_picker.problem.solutionTime:.3f}\")\n",
    "g.show(filename)"
   ]
  },
  {
   "cell_type": "code",
   "execution_count": 14,
   "metadata": {},
   "outputs": [
    {
     "name": "stdout",
     "output_type": "stream",
     "text": [
      "\n",
      "Computing Irreducible Inconsistent Subsystem (IIS)...\n",
      "\n",
      "           Constraints          |            Bounds           |  Runtime\n",
      "      Min       Max     Guess   |   Min       Max     Guess   |\n",
      "--------------------------------------------------------------------------\n",
      "        0        28         -         0        25         -           0s\n",
      "       13        13         -         3         3         -           0s\n",
      "\n",
      "IIS computed: 13 constraints, 3 bounds\n",
      "IIS runtime: 0.00 seconds\n"
     ]
    }
   ],
   "source": [
    "if color_picker.problem.solverModel.Status in [4, 3]:\n",
    "    color_picker.problem.solverModel.computeIIS()\n",
    "    color_picker.problem.solverModel.write(f\"why_infeasible.ilp\")"
   ]
  }
 ],
 "metadata": {
  "colab": {
   "collapsed_sections": [],
   "name": "Coloring.ipynb",
   "provenance": []
  },
  "kernelspec": {
   "display_name": "Python 3 (ipykernel)",
   "language": "python",
   "name": "python3"
  },
  "language_info": {
   "codemirror_mode": {
    "name": "ipython",
    "version": 3
   },
   "file_extension": ".py",
   "mimetype": "text/x-python",
   "name": "python",
   "nbconvert_exporter": "python",
   "pygments_lexer": "ipython3",
   "version": "3.8.5"
  }
 },
 "nbformat": 4,
 "nbformat_minor": 4
}
